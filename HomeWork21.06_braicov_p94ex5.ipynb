{
 "cells": [
  {
   "cell_type": "code",
   "execution_count": 10,
   "id": "74763bef",
   "metadata": {},
   "outputs": [],
   "source": [
    "text=(\"A fost odata ca-n povesti, A fost ca niciodata, Din rude mari imparatesti, O prea frumoasa fata.\")"
   ]
  },
  {
   "cell_type": "code",
   "execution_count": 11,
   "id": "6c7ae562",
   "metadata": {},
   "outputs": [
    {
     "name": "stdout",
     "output_type": "stream",
     "text": [
      "Textul conține  33  vocale și  63  consoane \n"
     ]
    }
   ],
   "source": [
    "nr_voc=0\n",
    "nr_cons=0\n",
    "for i in text:\n",
    "    if(i == 'a'or i == 'e'or i == 'i'or i == 'o'or i == 'u' ):\n",
    "           nr_voc=nr_voc+1;\n",
    "    else:\n",
    "        nr_cons=nr_cons+1;\n",
    "\n",
    "print(\"Textul conține \",nr_voc, \" vocale și \", nr_cons, \" consoane \")"
   ]
  },
  {
   "cell_type": "code",
   "execution_count": null,
   "id": "844eb96b",
   "metadata": {},
   "outputs": [],
   "source": []
  },
  {
   "cell_type": "code",
   "execution_count": null,
   "id": "943f6bd7",
   "metadata": {},
   "outputs": [],
   "source": []
  }
 ],
 "metadata": {
  "kernelspec": {
   "display_name": "Python 3",
   "language": "python",
   "name": "python3"
  },
  "language_info": {
   "codemirror_mode": {
    "name": "ipython",
    "version": 3
   },
   "file_extension": ".py",
   "mimetype": "text/x-python",
   "name": "python",
   "nbconvert_exporter": "python",
   "pygments_lexer": "ipython3",
   "version": "3.7.9"
  }
 },
 "nbformat": 4,
 "nbformat_minor": 5
}
