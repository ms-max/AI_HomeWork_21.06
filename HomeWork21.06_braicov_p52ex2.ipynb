{
 "cells": [
  {
   "cell_type": "code",
   "execution_count": 11,
   "id": "a692ff3a",
   "metadata": {},
   "outputs": [
    {
     "name": "stdout",
     "output_type": "stream",
     "text": [
      "320\n",
      "31\n"
     ]
    }
   ],
   "source": [
    "#Кортежи (tuple)\n",
    "#Se dă un vector n (1<=n<=100) componente numere întregi.\n",
    "#Să se calculeze suma și produsul componentelor vectorului\n",
    "\n",
    "multiplication = 1           \n",
    "tup = tuple([20, 8 ,1 ,2 ])\n",
    "for x in tup:\n",
    "    multiplication *= x\n",
    "addition = sum(tup)\n",
    "print(multiplication)\n",
    "print(addition)"
   ]
  }
 ],
 "metadata": {
  "kernelspec": {
   "display_name": "Python 3",
   "language": "python",
   "name": "python3"
  },
  "language_info": {
   "codemirror_mode": {
    "name": "ipython",
    "version": 3
   },
   "file_extension": ".py",
   "mimetype": "text/x-python",
   "name": "python",
   "nbconvert_exporter": "python",
   "pygments_lexer": "ipython3",
   "version": "3.7.9"
  }
 },
 "nbformat": 4,
 "nbformat_minor": 5
}
