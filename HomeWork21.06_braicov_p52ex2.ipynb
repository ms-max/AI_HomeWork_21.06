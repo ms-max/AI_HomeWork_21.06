{
 "cells": [
  {
   "cell_type": "code",
   "execution_count": 17,
   "id": "a692ff3a",
   "metadata": {},
   "outputs": [
    {
     "name": "stdout",
     "output_type": "stream",
     "text": [
      "0\n",
      "27\n"
     ]
    }
   ],
   "source": [
    "multiplication = 1   \n",
    "             \n",
    "tup = [23, 2 ,0 ,2 ]\n",
    "for x in tup:\n",
    "    multiplication *= x\n",
    "addition = sum(tup)\n",
    "print(multiplication)\n",
    "print(addition)"
   ]
  },
  {
   "cell_type": "code",
   "execution_count": null,
   "id": "97b9fdf8",
   "metadata": {},
   "outputs": [],
   "source": []
  }
 ],
 "metadata": {
  "kernelspec": {
   "display_name": "Python 3",
   "language": "python",
   "name": "python3"
  },
  "language_info": {
   "codemirror_mode": {
    "name": "ipython",
    "version": 3
   },
   "file_extension": ".py",
   "mimetype": "text/x-python",
   "name": "python",
   "nbconvert_exporter": "python",
   "pygments_lexer": "ipython3",
   "version": "3.7.9"
  }
 },
 "nbformat": 4,
 "nbformat_minor": 5
}
